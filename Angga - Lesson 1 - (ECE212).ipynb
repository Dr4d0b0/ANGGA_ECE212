{
 "cells": [
  {
   "cell_type": "markdown",
   "metadata": {},
   "source": [
    "# Lesson 1: Introduction to Python"
   ]
  },
  {
   "cell_type": "markdown",
   "metadata": {},
   "source": [
    "## Introduction\n",
    "\n",
    "The goal of this coursepack is to teach you to understand and create computer programs in Python. At the beginning of each chapter, we will outline for you the learning goals and objectives that should be accomplished once you have gone through the chapter.\n",
    "\n",
    "Understanding computer programs requires algorithmic, mechanistic thinking. Programs specify mechanistic sequences of actions to perform; when executed, they transform input data into output data.\n",
    "\n",
    "Writing computer programs requires not only mechanistic thinking but creative problem solving. Problem solving means the ability to formulate problems, think creatively about solutions, and express a solution clearly and accurately."
   ]
  },
  {
   "cell_type": "markdown",
   "metadata": {},
   "source": [
    "## Activity\n",
    "\n",
    "1. Why do you think understanding computer programs is relevant in our time today especially in the new normal?\n",
    "    \n",
    "    *Understanding computer programs is relevant,\n",
    "    \n",
    "\n",
    "2. If you were able to learn computer program, what program will you code? Why? \n",
    "    \n",
    "    *I would use the python language because it is more versatile than other high-level programming languages.\n",
    "    \n",
    "    \n",
    "3. What would be your pirmary motivation in learning programming?\n",
    "    \n",
    "    *Is to learn the language and might use this learnings in future purposes."
   ]
  },
  {
   "cell_type": "markdown",
   "metadata": {},
   "source": [
    "## Application\n",
    "\n",
    "1. Why do you think Python is the most applicable programming language for scientific computing?\n",
    "\n",
    "    *Programming languages have been around for a very long time, and consistently observes the launch of another language deeply inspiring designers. Python is considered as one of the most well known and popular programming language. An ongoing Stack Overflow review indicated that Python has assumed control over languages, for example, Java, C, C++ and has advanced toward the top. This makes Python confirmation one of the most sought-after programming certifications.\n",
    "    \n",
    "2. if Python can build anything, where do you think Python is not applicable for? \n",
    "\n",
    "    *Although Python can build anything, there are also some disadvantages. Python has slow execution speed, which means it works with an interpreter, and not with a compiler. This means that is executes slower than C, C++, Java and many other languages. Second, it has large memory consumption, hence it is not suitable to use for development under limited memory restirction. Third, it is not suitable for Mobile and Game development due to the consumption of more memory and its slow processing speed compared to other programming languages. Fourth, it is difficult to test, since it is an interpreter based language, it is tough to run tests on code written in Python."
   ]
  },
  {
   "cell_type": "markdown",
   "metadata": {},
   "source": [
    "## Exercises"
   ]
  },
  {
   "cell_type": "markdown",
   "metadata": {},
   "source": [
    "### Mailing Address (Solved, 9 Lines)\n",
    "\n",
    "1. Create a program that displays your name and complete mailing addresss. The address should be printed in the format that is normally used in the area where you live. You program does not need to ready any input from the user."
   ]
  },
  {
   "cell_type": "code",
   "execution_count": 1,
   "metadata": {},
   "outputs": [
    {
     "name": "stdout",
     "output_type": "stream",
     "text": [
      "Full Name: Lawrence Parami Angga\n",
      "Address: Phase 2, Block 8 Lot 15, Rosalina Village 3, Baliok Davao City\n",
      "Course: Bachelor Science in Electronics Engineering - BSEcE\n",
      "School: USeP\n"
     ]
    }
   ],
   "source": [
    "print(\"Full Name: Lawrence Parami Angga\")\n",
    "print(\"Address: Phase 2, Block 8 Lot 15, Rosalina Village 3, Baliok Davao City\")\n",
    "print(\"Course: Bachelor Science in Electronics Engineering - BSEcE\")\n",
    "print(\"School: USeP\")"
   ]
  },
  {
   "cell_type": "markdown",
   "metadata": {},
   "source": [
    "### Area of a Room (Solved, 13 lines)\n",
    "\n",
    "2. Write a program that asks the user to enter the width and lenth of a room. Once these values have been read, your program should compute and display the area of the room. The length and the width will be entered as floating-point numbers. Include units in your prompt and output message; either feet or meters, depending on which unit you are more comfortable working with."
   ]
  },
  {
   "cell_type": "code",
   "execution_count": 2,
   "metadata": {},
   "outputs": [
    {
     "name": "stdout",
     "output_type": "stream",
     "text": [
      "Enter the length of the room in meters: 5\n",
      "Enter the width of the room in meters: 4\n",
      "The area of the room is, 20.0 meters.\n"
     ]
    }
   ],
   "source": [
    "l = float(input(\"Enter the length of the room in meters: \"))\n",
    "w = float(input(\"Enter the width of the room in meters: \"))\n",
    "\n",
    "area = l * w\n",
    "\n",
    "print(\"The area of the room is,\",area, \"meters.\")"
   ]
  },
  {
   "cell_type": "markdown",
   "metadata": {},
   "source": [
    "### Arithmetic (Solved, 22 Lines)\n",
    "\n",
    "3. Create a program that reads two integers, a and b, from the user. Your program should compute and display:\n",
    "    \n",
    "        The sum of a and b\n",
    "        The difference when b is subratected from a\n",
    "        The product of a and b\n",
    "        The quotient when a is divided by b\n",
    "        The remainder when a is divided by b\n",
    "        The result of log10 a\n",
    "        The result of ab"
   ]
  },
  {
   "cell_type": "markdown",
   "metadata": {},
   "source": [
    "### The Sum"
   ]
  },
  {
   "cell_type": "code",
   "execution_count": 20,
   "metadata": {},
   "outputs": [
    {
     "name": "stdout",
     "output_type": "stream",
     "text": [
      "Enter two numbers you want to add.\n",
      "Enter an integer: 45\n",
      "Enter another integer: 5\n",
      "The sum of two integers: 50.0 .\n"
     ]
    }
   ],
   "source": [
    "#The sum of a and b\n",
    "print(\"Enter two numbers you want to add.\")\n",
    "\n",
    "a = float(input(\"Enter an integer: \"))\n",
    "b = float(input(\"Enter another integer: \"))\n",
    "\n",
    "sum = a + b\n",
    "\n",
    "print(\"The sum of two integers:\",sum,\".\")"
   ]
  },
  {
   "cell_type": "markdown",
   "metadata": {},
   "source": [
    "### The Difference"
   ]
  },
  {
   "cell_type": "code",
   "execution_count": 4,
   "metadata": {},
   "outputs": [
    {
     "name": "stdout",
     "output_type": "stream",
     "text": [
      "Enter two numbers you want to subtract.\n",
      "Enter the minuend: 15\n",
      "Enter the subtrahend: 7\n",
      "The difference of two integers: 8.0 .\n"
     ]
    }
   ],
   "source": [
    "#The difference when b is subtracted from a\n",
    "print(\"Enter two numbers you want to subtract.\")\n",
    "\n",
    "b = float(input(\"Enter the minuend: \"))\n",
    "a = float(input(\"Enter the subtrahend: \"))\n",
    "\n",
    "difference = b - a\n",
    "\n",
    "print(\"The difference of two integers:\",difference,\".\")"
   ]
  },
  {
   "cell_type": "markdown",
   "metadata": {},
   "source": [
    "### The Product"
   ]
  },
  {
   "cell_type": "code",
   "execution_count": 7,
   "metadata": {},
   "outputs": [
    {
     "name": "stdout",
     "output_type": "stream",
     "text": [
      "Enter two numbers you want to multiply.\n",
      "Enter an integer: 7\n",
      "Enter another integer: 8\n",
      "The product is: 56.0 .\n"
     ]
    }
   ],
   "source": [
    "#The product of a and b\n",
    "print(\"Enter two numbers you want to multiply.\")\n",
    "\n",
    "a = float(input(\"Enter an integer: \"))\n",
    "b = float(input(\"Enter another integer: \"))\n",
    "\n",
    "product = a * b\n",
    "\n",
    "print(\"The product is:\",product,\".\")"
   ]
  },
  {
   "cell_type": "markdown",
   "metadata": {},
   "source": [
    "### The Quotient"
   ]
  },
  {
   "cell_type": "code",
   "execution_count": 8,
   "metadata": {},
   "outputs": [
    {
     "name": "stdout",
     "output_type": "stream",
     "text": [
      "Enter two numbers you want to divide.\n",
      "Enter your Dividend: 20\n",
      "Enter your Divisor: 5\n",
      "The quotient is: 4.0 .\n"
     ]
    }
   ],
   "source": [
    "#The quotient when a is divided by b\n",
    "print(\"Enter two numbers you want to divide.\")\n",
    "\n",
    "a = float(input(\"Enter your Dividend: \"))\n",
    "b = float(input(\"Enter your Divisor: \"))\n",
    "\n",
    "answer = a / b\n",
    "\n",
    "print(\"The quotient is:\",answer,\".\")"
   ]
  },
  {
   "cell_type": "markdown",
   "metadata": {},
   "source": [
    "### The Remainder"
   ]
  },
  {
   "cell_type": "code",
   "execution_count": 1,
   "metadata": {},
   "outputs": [
    {
     "name": "stdout",
     "output_type": "stream",
     "text": [
      "Enter two numbers you want to divide, and I shall give you the remainder: \n",
      "Enter your Dividend: 78\n",
      "Enter your Divisor: 5\n",
      "The remainder of the quotient is: 3.0 .\n"
     ]
    }
   ],
   "source": [
    "#The remainder when a is divided by b\n",
    "print(\"Enter two numbers you want to divide, and I shall give you the remainder: \")\n",
    "\n",
    "a = float(input(\"Enter your Dividend: \"))\n",
    "b = float(input(\"Enter your Divisor: \"))\n",
    "\n",
    "answer = a % b\n",
    "\n",
    "print(\"The remainder of the quotient is:\",answer,\".\")"
   ]
  },
  {
   "cell_type": "markdown",
   "metadata": {},
   "source": [
    "### The Log"
   ]
  },
  {
   "cell_type": "code",
   "execution_count": 8,
   "metadata": {},
   "outputs": [
    {
     "name": "stdout",
     "output_type": "stream",
     "text": [
      "Enter log of: 45\n",
      "The answer is, 1.6532125137753437 .\n"
     ]
    }
   ],
   "source": [
    "#The Result of log10 a\n",
    "import math\n",
    "a = float(input(\"Enter log of: \"))\n",
    "\n",
    "log = math.log10(a)\n",
    "print(\"The answer is,\",log,\".\")"
   ]
  },
  {
   "cell_type": "markdown",
   "metadata": {},
   "source": [
    "### The Result of A and B"
   ]
  },
  {
   "cell_type": "code",
   "execution_count": null,
   "metadata": {},
   "outputs": [],
   "source": [
    "#The Result of A and B\n",
    "a = float(input(\"Enter an integer: \"))\n",
    "b = float(input(\"Enter another integer: \"))\n",
    "\n",
    "print(\"The two integers presented are,\",a,\"and\",b,\".\")"
   ]
  },
  {
   "cell_type": "markdown",
   "metadata": {},
   "source": [
    "### Area and Volume (15 Lines)\n",
    "\n",
    "4. Write a program that begins by reading a radius, r, from the user. The program will continue by computing and displaying the area of a circle with radius r and the volume of a sphere with radius r. Use the pi constant in the math module in your calculations."
   ]
  },
  {
   "cell_type": "code",
   "execution_count": 21,
   "metadata": {},
   "outputs": [
    {
     "name": "stdout",
     "output_type": "stream",
     "text": [
      "Enter the radius: 10\n",
      "The area of a circle is: 314.1592653589793 .\n",
      "The volume of a sphere is: 4188.790204786391 .\n"
     ]
    }
   ],
   "source": [
    "#This will show the area of a circle, and the volume of a sphere by just defining radius r.\n",
    "\n",
    "import math\n",
    "r = float(input(\"Enter the radius: \"))\n",
    "\n",
    "area = math.pi * r * r\n",
    "volume = (4/3) * math.pi * r * r * r\n",
    "\n",
    "print(\"The area of a circle is:\",area,\".\")\n",
    "print(\"The volume of a sphere is:\",volume,\".\")"
   ]
  },
  {
   "cell_type": "code",
   "execution_count": null,
   "metadata": {},
   "outputs": [],
   "source": []
  }
 ],
 "metadata": {
  "kernelspec": {
   "display_name": "Python 3",
   "language": "python",
   "name": "python3"
  },
  "language_info": {
   "codemirror_mode": {
    "name": "ipython",
    "version": 3
   },
   "file_extension": ".py",
   "mimetype": "text/x-python",
   "name": "python",
   "nbconvert_exporter": "python",
   "pygments_lexer": "ipython3",
   "version": "3.6.10"
  }
 },
 "nbformat": 4,
 "nbformat_minor": 2
}
